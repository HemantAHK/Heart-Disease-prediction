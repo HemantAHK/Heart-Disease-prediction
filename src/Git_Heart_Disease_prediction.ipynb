{
  "nbformat": 4,
  "nbformat_minor": 0,
  "metadata": {
    "colab": {
      "name": "Git_Heart_Disease_prediction.ipynb",
      "provenance": [],
      "collapsed_sections": [],
      "toc_visible": true
    },
    "kernelspec": {
      "name": "python3",
      "display_name": "Python 3"
    }
  },
  "cells": [
    {
      "cell_type": "markdown",
      "metadata": {
        "id": "NyTrIka1_26h",
        "colab_type": "text"
      },
      "source": [
        "# Importing Libraries"
      ]
    },
    {
      "cell_type": "code",
      "metadata": {
        "id": "aWHa0rg_zalO",
        "colab_type": "code",
        "colab": {}
      },
      "source": [
        "import pandas as pd\n",
        "import numpy as np\n",
        "\n",
        "from sklearn.linear_model import LogisticRegression\n",
        "from sklearn.tree import DecisionTreeClassifier\n",
        "from sklearn.ensemble import RandomForestClassifier\n",
        "from sklearn.ensemble import VotingClassifier\n",
        "\n",
        "from sklearn.model_selection import train_test_split\n",
        "from sklearn.metrics import confusion_matrix, classification_report, f1_score"
      ],
      "execution_count": 0,
      "outputs": []
    },
    {
      "cell_type": "markdown",
      "metadata": {
        "id": "kp4cKxqL_vD6",
        "colab_type": "text"
      },
      "source": [
        "# Loading Data"
      ]
    },
    {
      "cell_type": "code",
      "metadata": {
        "id": "O_ABRfPTs9P6",
        "colab_type": "code",
        "outputId": "e66fc13f-dc6f-4770-b070-cd3449cd4787",
        "colab": {
          "base_uri": "https://localhost:8080/",
          "height": 52
        }
      },
      "source": [
        "!unzip heart-disease-uci.zip"
      ],
      "execution_count": 2,
      "outputs": [
        {
          "output_type": "stream",
          "text": [
            "Archive:  heart-disease-uci.zip\n",
            "  inflating: heart.csv               \n"
          ],
          "name": "stdout"
        }
      ]
    },
    {
      "cell_type": "code",
      "metadata": {
        "id": "o-Ji93dvzUmL",
        "colab_type": "code",
        "colab": {}
      },
      "source": [
        "DataSet = pd.read_csv(\"heart.csv\")"
      ],
      "execution_count": 0,
      "outputs": []
    },
    {
      "cell_type": "code",
      "metadata": {
        "id": "iGq3UlafzhNs",
        "colab_type": "code",
        "outputId": "4a04579b-5544-4ce2-eb11-fccb24e97cc9",
        "colab": {
          "base_uri": "https://localhost:8080/",
          "height": 34
        }
      },
      "source": [
        "DataSet.shape"
      ],
      "execution_count": 5,
      "outputs": [
        {
          "output_type": "execute_result",
          "data": {
            "text/plain": [
              "(303, 14)"
            ]
          },
          "metadata": {
            "tags": []
          },
          "execution_count": 5
        }
      ]
    },
    {
      "cell_type": "code",
      "metadata": {
        "id": "lsumphidzmFS",
        "colab_type": "code",
        "outputId": "213304d6-c160-4901-ba3b-d1474ff1a75c",
        "colab": {
          "base_uri": "https://localhost:8080/",
          "height": 197
        }
      },
      "source": [
        "DataSet.head()"
      ],
      "execution_count": 6,
      "outputs": [
        {
          "output_type": "execute_result",
          "data": {
            "text/html": [
              "<div>\n",
              "<style scoped>\n",
              "    .dataframe tbody tr th:only-of-type {\n",
              "        vertical-align: middle;\n",
              "    }\n",
              "\n",
              "    .dataframe tbody tr th {\n",
              "        vertical-align: top;\n",
              "    }\n",
              "\n",
              "    .dataframe thead th {\n",
              "        text-align: right;\n",
              "    }\n",
              "</style>\n",
              "<table border=\"1\" class=\"dataframe\">\n",
              "  <thead>\n",
              "    <tr style=\"text-align: right;\">\n",
              "      <th></th>\n",
              "      <th>age</th>\n",
              "      <th>sex</th>\n",
              "      <th>cp</th>\n",
              "      <th>trestbps</th>\n",
              "      <th>chol</th>\n",
              "      <th>fbs</th>\n",
              "      <th>restecg</th>\n",
              "      <th>thalach</th>\n",
              "      <th>exang</th>\n",
              "      <th>oldpeak</th>\n",
              "      <th>slope</th>\n",
              "      <th>ca</th>\n",
              "      <th>thal</th>\n",
              "      <th>target</th>\n",
              "    </tr>\n",
              "  </thead>\n",
              "  <tbody>\n",
              "    <tr>\n",
              "      <th>0</th>\n",
              "      <td>63</td>\n",
              "      <td>1</td>\n",
              "      <td>3</td>\n",
              "      <td>145</td>\n",
              "      <td>233</td>\n",
              "      <td>1</td>\n",
              "      <td>0</td>\n",
              "      <td>150</td>\n",
              "      <td>0</td>\n",
              "      <td>2.3</td>\n",
              "      <td>0</td>\n",
              "      <td>0</td>\n",
              "      <td>1</td>\n",
              "      <td>1</td>\n",
              "    </tr>\n",
              "    <tr>\n",
              "      <th>1</th>\n",
              "      <td>37</td>\n",
              "      <td>1</td>\n",
              "      <td>2</td>\n",
              "      <td>130</td>\n",
              "      <td>250</td>\n",
              "      <td>0</td>\n",
              "      <td>1</td>\n",
              "      <td>187</td>\n",
              "      <td>0</td>\n",
              "      <td>3.5</td>\n",
              "      <td>0</td>\n",
              "      <td>0</td>\n",
              "      <td>2</td>\n",
              "      <td>1</td>\n",
              "    </tr>\n",
              "    <tr>\n",
              "      <th>2</th>\n",
              "      <td>41</td>\n",
              "      <td>0</td>\n",
              "      <td>1</td>\n",
              "      <td>130</td>\n",
              "      <td>204</td>\n",
              "      <td>0</td>\n",
              "      <td>0</td>\n",
              "      <td>172</td>\n",
              "      <td>0</td>\n",
              "      <td>1.4</td>\n",
              "      <td>2</td>\n",
              "      <td>0</td>\n",
              "      <td>2</td>\n",
              "      <td>1</td>\n",
              "    </tr>\n",
              "    <tr>\n",
              "      <th>3</th>\n",
              "      <td>56</td>\n",
              "      <td>1</td>\n",
              "      <td>1</td>\n",
              "      <td>120</td>\n",
              "      <td>236</td>\n",
              "      <td>0</td>\n",
              "      <td>1</td>\n",
              "      <td>178</td>\n",
              "      <td>0</td>\n",
              "      <td>0.8</td>\n",
              "      <td>2</td>\n",
              "      <td>0</td>\n",
              "      <td>2</td>\n",
              "      <td>1</td>\n",
              "    </tr>\n",
              "    <tr>\n",
              "      <th>4</th>\n",
              "      <td>57</td>\n",
              "      <td>0</td>\n",
              "      <td>0</td>\n",
              "      <td>120</td>\n",
              "      <td>354</td>\n",
              "      <td>0</td>\n",
              "      <td>1</td>\n",
              "      <td>163</td>\n",
              "      <td>1</td>\n",
              "      <td>0.6</td>\n",
              "      <td>2</td>\n",
              "      <td>0</td>\n",
              "      <td>2</td>\n",
              "      <td>1</td>\n",
              "    </tr>\n",
              "  </tbody>\n",
              "</table>\n",
              "</div>"
            ],
            "text/plain": [
              "   age  sex  cp  trestbps  chol  fbs  ...  exang  oldpeak  slope  ca  thal  target\n",
              "0   63    1   3       145   233    1  ...      0      2.3      0   0     1       1\n",
              "1   37    1   2       130   250    0  ...      0      3.5      0   0     2       1\n",
              "2   41    0   1       130   204    0  ...      0      1.4      2   0     2       1\n",
              "3   56    1   1       120   236    0  ...      0      0.8      2   0     2       1\n",
              "4   57    0   0       120   354    0  ...      1      0.6      2   0     2       1\n",
              "\n",
              "[5 rows x 14 columns]"
            ]
          },
          "metadata": {
            "tags": []
          },
          "execution_count": 6
        }
      ]
    },
    {
      "cell_type": "markdown",
      "metadata": {
        "id": "ygeiUeQc4Yh2",
        "colab_type": "text"
      },
      "source": [
        "refrence - https://www.kaggle.com/tentotheminus9/what-causes-heart-disease-explaining-the-model"
      ]
    },
    {
      "cell_type": "markdown",
      "metadata": {
        "id": "9h50GEU33GvA",
        "colab_type": "text"
      },
      "source": [
        "The meaning of some of the column headers are not obvious. Here's what they mean,\n",
        "\n",
        "- age: The person's age in years\n",
        "- sex: The person's sex (1 = male, 0 = female)\n",
        "- cp: The chest pain experienced (Value 1: typical angina, Value 2: atypical angina, Value 3: non-anginal pain, Value 4: asymptomatic)\n",
        "- trestbps: The person's resting blood pressure (mm Hg on admission to the hospital)\n",
        "- chol: The person's cholesterol measurement in mg/dl\n",
        "- fbs: The person's fasting blood sugar (> 120 mg/dl, 1 = true; 0 = false)\n",
        "- restecg: Resting electrocardiographic measurement (0 = normal, 1 = having ST-T wave abnormality, 2 = showing probable or definite left ventricular hypertrophy by Estes' criteria)\n",
        "- thalach: The person's maximum heart rate achieved\n",
        "exang: Exercise induced angina (1 = yes; 0 = no)\n",
        "- oldpeak: ST depression induced by exercise relative to rest ('ST' relates to positions on the ECG plot. See more here)\n",
        "- slope: the slope of the peak exercise ST segment (Value 1: upsloping, Value 2: flat, Value 3: downsloping)\n",
        "- ca: The number of major vessels (0-3)\n",
        "- thal: A blood disorder called thalassemia (3 = normal; 6 = fixed defect; 7 = reversable defect)\n",
        "- target: Heart disease (0 = no, 1 = yes)\n",
        "\n",
        "**The diagnosis of heart disease is done on a combination of clinical signs and test results.**\n",
        "\n",
        "From the  information of heart disease risk factors led me to the following: \n",
        "- high cholesterol, high blood pressure, diabetes, weight, family history and smoking \n",
        "-  increasing age, male gender and heredity. \n",
        "- Note that thalassemia, one of the variables in this dataset, is heredity. \n",
        "- Major factors that can be modified are: Smoking, high cholesterol, high blood pressure, physical inactivity, and being overweight and having diabetes.\n",
        "-  Other factors include stress, alcohol and poor diet/nutrition."
      ]
    },
    {
      "cell_type": "markdown",
      "metadata": {
        "id": "IbKB8PSF_qb_",
        "colab_type": "text"
      },
      "source": [
        "# Data Preprocessing"
      ]
    },
    {
      "cell_type": "code",
      "metadata": {
        "id": "qP7zLgDd6HKD",
        "colab_type": "code",
        "colab": {}
      },
      "source": [
        "DataSet.columns = ['age', 'sex', 'chest_pain_type', 'resting_blood_pressure', 'cholesterol', 'fasting_blood_sugar', 'rest_ecg', 'max_heart_rate_achieved',\n",
        "       'exercise_induced_angina', 'st_depression', 'st_slope', 'num_major_vessels', 'thalassemia', 'target']"
      ],
      "execution_count": 0,
      "outputs": []
    },
    {
      "cell_type": "code",
      "metadata": {
        "id": "mWHyREVq5_4v",
        "colab_type": "code",
        "outputId": "2c99da12-8233-4e0d-b6c9-949d961be468",
        "colab": {
          "base_uri": "https://localhost:8080/",
          "height": 905
        }
      },
      "source": [
        "DataSet['sex'][DataSet['sex'] == 0] = 'female'\n",
        "DataSet['sex'][DataSet['sex'] == 1] = 'male'\n",
        "\n",
        "DataSet['chest_pain_type'][DataSet['chest_pain_type'] == 1] = 'typical angina'\n",
        "DataSet['chest_pain_type'][DataSet['chest_pain_type'] == 2] = 'atypical angina'\n",
        "DataSet['chest_pain_type'][DataSet['chest_pain_type'] == 3] = 'non-anginalpain'\n",
        "DataSet['chest_pain_type'][DataSet['chest_pain_type'] == 4] = 'asymptomatic'\n",
        "\n",
        "DataSet['fasting_blood_sugar'][DataSet['fasting_blood_sugar'] == 0] = 'lower than 120mg/ml'\n",
        "DataSet['fasting_blood_sugar'][DataSet['fasting_blood_sugar'] == 1] = 'greater than 120mg/ml'\n",
        "\n",
        "DataSet['rest_ecg'][DataSet['rest_ecg'] == 0] = 'normal'\n",
        "DataSet['rest_ecg'][DataSet['rest_ecg'] == 1] = 'ST-T wave abnormality'\n",
        "DataSet['rest_ecg'][DataSet['rest_ecg'] == 2] = 'left ventricular hypertrophy'\n",
        "\n",
        "DataSet['exercise_induced_angina'][DataSet['exercise_induced_angina'] == 0] = 'no'\n",
        "DataSet['exercise_induced_angina'][DataSet['exercise_induced_angina'] == 1] = 'yes'\n",
        "\n",
        "DataSet['st_slope'][DataSet['st_slope'] == 1] = 'upsloping'\n",
        "DataSet['st_slope'][DataSet['st_slope'] == 2] = 'flat'\n",
        "DataSet['st_slope'][DataSet['st_slope'] == 3] = 'downsloping'\n",
        "\n",
        "DataSet['thalassemia'][DataSet['thalassemia'] == 1] = 'normal'\n",
        "DataSet['thalassemia'][DataSet['thalassemia'] == 2] = 'fixed defect'\n",
        "DataSet['thalassemia'][DataSet['thalassemia'] == 3] = 'reversable defect'"
      ],
      "execution_count": 8,
      "outputs": [
        {
          "output_type": "stream",
          "text": [
            "/usr/local/lib/python3.6/dist-packages/ipykernel_launcher.py:1: SettingWithCopyWarning: \n",
            "A value is trying to be set on a copy of a slice from a DataFrame\n",
            "\n",
            "See the caveats in the documentation: http://pandas.pydata.org/pandas-docs/stable/indexing.html#indexing-view-versus-copy\n",
            "  \"\"\"Entry point for launching an IPython kernel.\n",
            "/usr/local/lib/python3.6/dist-packages/ipykernel_launcher.py:4: SettingWithCopyWarning: \n",
            "A value is trying to be set on a copy of a slice from a DataFrame\n",
            "\n",
            "See the caveats in the documentation: http://pandas.pydata.org/pandas-docs/stable/indexing.html#indexing-view-versus-copy\n",
            "  after removing the cwd from sys.path.\n",
            "/usr/local/lib/python3.6/dist-packages/ipykernel_launcher.py:9: SettingWithCopyWarning: \n",
            "A value is trying to be set on a copy of a slice from a DataFrame\n",
            "\n",
            "See the caveats in the documentation: http://pandas.pydata.org/pandas-docs/stable/indexing.html#indexing-view-versus-copy\n",
            "  if __name__ == '__main__':\n",
            "/usr/local/lib/python3.6/dist-packages/ipykernel_launcher.py:10: SettingWithCopyWarning: \n",
            "A value is trying to be set on a copy of a slice from a DataFrame\n",
            "\n",
            "See the caveats in the documentation: http://pandas.pydata.org/pandas-docs/stable/indexing.html#indexing-view-versus-copy\n",
            "  # Remove the CWD from sys.path while we load stuff.\n",
            "/usr/local/lib/python3.6/dist-packages/ipykernel_launcher.py:12: SettingWithCopyWarning: \n",
            "A value is trying to be set on a copy of a slice from a DataFrame\n",
            "\n",
            "See the caveats in the documentation: http://pandas.pydata.org/pandas-docs/stable/indexing.html#indexing-view-versus-copy\n",
            "  if sys.path[0] == '':\n",
            "/usr/local/lib/python3.6/dist-packages/ipykernel_launcher.py:16: SettingWithCopyWarning: \n",
            "A value is trying to be set on a copy of a slice from a DataFrame\n",
            "\n",
            "See the caveats in the documentation: http://pandas.pydata.org/pandas-docs/stable/indexing.html#indexing-view-versus-copy\n",
            "  app.launch_new_instance()\n",
            "/usr/local/lib/python3.6/dist-packages/ipykernel_launcher.py:17: SettingWithCopyWarning: \n",
            "A value is trying to be set on a copy of a slice from a DataFrame\n",
            "\n",
            "See the caveats in the documentation: http://pandas.pydata.org/pandas-docs/stable/indexing.html#indexing-view-versus-copy\n",
            "/usr/local/lib/python3.6/dist-packages/ipykernel_launcher.py:19: SettingWithCopyWarning: \n",
            "A value is trying to be set on a copy of a slice from a DataFrame\n",
            "\n",
            "See the caveats in the documentation: http://pandas.pydata.org/pandas-docs/stable/indexing.html#indexing-view-versus-copy\n",
            "/usr/local/lib/python3.6/dist-packages/ipykernel_launcher.py:23: SettingWithCopyWarning: \n",
            "A value is trying to be set on a copy of a slice from a DataFrame\n",
            "\n",
            "See the caveats in the documentation: http://pandas.pydata.org/pandas-docs/stable/indexing.html#indexing-view-versus-copy\n",
            "/usr/local/lib/python3.6/dist-packages/ipykernel_launcher.py:24: SettingWithCopyWarning: \n",
            "A value is trying to be set on a copy of a slice from a DataFrame\n",
            "\n",
            "See the caveats in the documentation: http://pandas.pydata.org/pandas-docs/stable/indexing.html#indexing-view-versus-copy\n",
            "/usr/local/lib/python3.6/dist-packages/ipykernel_launcher.py:25: SettingWithCopyWarning: \n",
            "A value is trying to be set on a copy of a slice from a DataFrame\n",
            "\n",
            "See the caveats in the documentation: http://pandas.pydata.org/pandas-docs/stable/indexing.html#indexing-view-versus-copy\n"
          ],
          "name": "stderr"
        }
      ]
    },
    {
      "cell_type": "code",
      "metadata": {
        "id": "O23x5uwW7_jp",
        "colab_type": "code",
        "colab": {}
      },
      "source": [
        "DataSet['sex'] = DataSet['sex'].astype('object')\n",
        "DataSet['chest_pain_type'] = DataSet['chest_pain_type'].astype('object')\n",
        "DataSet['fasting_blood_sugar'] = DataSet['fasting_blood_sugar'].astype('object')\n",
        "DataSet['rest_ecg'] = DataSet['rest_ecg'].astype('object')\n",
        "DataSet['exercise_induced_angina'] = DataSet['exercise_induced_angina'].astype('object')\n",
        "DataSet['st_slope'] = DataSet['st_slope'].astype('object')\n",
        "DataSet['thalassemia'] = DataSet['thalassemia'].astype('object')"
      ],
      "execution_count": 0,
      "outputs": []
    },
    {
      "cell_type": "code",
      "metadata": {
        "id": "AbJiGxjQ0dMm",
        "colab_type": "code",
        "outputId": "06f977bd-0e2c-4abd-efb3-f6df452b6427",
        "colab": {
          "base_uri": "https://localhost:8080/",
          "height": 70
        }
      },
      "source": [
        "DataSet.target.value_counts()"
      ],
      "execution_count": 10,
      "outputs": [
        {
          "output_type": "execute_result",
          "data": {
            "text/plain": [
              "1    165\n",
              "0    138\n",
              "Name: target, dtype: int64"
            ]
          },
          "metadata": {
            "tags": []
          },
          "execution_count": 10
        }
      ]
    },
    {
      "cell_type": "code",
      "metadata": {
        "id": "5JRmqQBJ00qk",
        "colab_type": "code",
        "outputId": "8f4462fa-6654-49e9-dfaa-d665cb7d32fd",
        "colab": {
          "base_uri": "https://localhost:8080/",
          "height": 354
        }
      },
      "source": [
        "DataSet.info()"
      ],
      "execution_count": 11,
      "outputs": [
        {
          "output_type": "stream",
          "text": [
            "<class 'pandas.core.frame.DataFrame'>\n",
            "RangeIndex: 303 entries, 0 to 302\n",
            "Data columns (total 14 columns):\n",
            "age                        303 non-null int64\n",
            "sex                        303 non-null object\n",
            "chest_pain_type            303 non-null object\n",
            "resting_blood_pressure     303 non-null int64\n",
            "cholesterol                303 non-null int64\n",
            "fasting_blood_sugar        303 non-null object\n",
            "rest_ecg                   303 non-null object\n",
            "max_heart_rate_achieved    303 non-null int64\n",
            "exercise_induced_angina    303 non-null object\n",
            "st_depression              303 non-null float64\n",
            "st_slope                   303 non-null object\n",
            "num_major_vessels          303 non-null int64\n",
            "thalassemia                303 non-null object\n",
            "target                     303 non-null int64\n",
            "dtypes: float64(1), int64(6), object(7)\n",
            "memory usage: 33.2+ KB\n"
          ],
          "name": "stdout"
        }
      ]
    },
    {
      "cell_type": "code",
      "metadata": {
        "id": "qQR5x-GZ_kFE",
        "colab_type": "code",
        "colab": {}
      },
      "source": [
        "DataSet = pd.get_dummies(DataSet, drop_first=True)"
      ],
      "execution_count": 0,
      "outputs": []
    },
    {
      "cell_type": "code",
      "metadata": {
        "id": "jhcplWFtWcgT",
        "colab_type": "code",
        "outputId": "f1bf0d26-442a-450c-d39b-f73475accf22",
        "colab": {
          "base_uri": "https://localhost:8080/",
          "height": 34
        }
      },
      "source": [
        "DataSet.shape"
      ],
      "execution_count": 13,
      "outputs": [
        {
          "output_type": "execute_result",
          "data": {
            "text/plain": [
              "(303, 20)"
            ]
          },
          "metadata": {
            "tags": []
          },
          "execution_count": 13
        }
      ]
    },
    {
      "cell_type": "code",
      "metadata": {
        "id": "yS3BkD0g1KCW",
        "colab_type": "code",
        "colab": {}
      },
      "source": [
        "DataSet_features = DataSet.drop(['target'], axis=1)\n",
        "DataSet_Labels = DataSet['target']"
      ],
      "execution_count": 0,
      "outputs": []
    },
    {
      "cell_type": "code",
      "metadata": {
        "id": "bK7-ukiL0oAM",
        "colab_type": "code",
        "colab": {}
      },
      "source": [
        "X_train,X_test,Y_train,Y_test=train_test_split(DataSet_features, DataSet_Labels ,test_size=0.2,random_state=32, stratify=DataSet_Labels)"
      ],
      "execution_count": 0,
      "outputs": []
    },
    {
      "cell_type": "code",
      "metadata": {
        "id": "AfuqSma2XCE_",
        "colab_type": "code",
        "outputId": "dd4e9d58-8737-43f1-a936-1c428eca1532",
        "colab": {
          "base_uri": "https://localhost:8080/",
          "height": 87
        }
      },
      "source": [
        "print(X_train.shape)\n",
        "print(Y_train.shape)\n",
        "print(X_test.shape)\n",
        "print(Y_test.shape)"
      ],
      "execution_count": 16,
      "outputs": [
        {
          "output_type": "stream",
          "text": [
            "(242, 19)\n",
            "(242,)\n",
            "(61, 19)\n",
            "(61,)\n"
          ],
          "name": "stdout"
        }
      ]
    },
    {
      "cell_type": "markdown",
      "metadata": {
        "id": "ZX_yYY3v_jYP",
        "colab_type": "text"
      },
      "source": [
        "# Base Models"
      ]
    },
    {
      "cell_type": "code",
      "metadata": {
        "id": "ZQr60EPlSFNk",
        "colab_type": "code",
        "colab": {}
      },
      "source": [
        "lr=LogisticRegression(class_weight='balanced', tol=1e-10, verbose=2, penalty='l2')\n",
        "dtc=DecisionTreeClassifier(max_depth=3)\n",
        "rf=RandomForestClassifier(n_estimators=11, n_jobs=-1, random_state=0, verbose=2)"
      ],
      "execution_count": 0,
      "outputs": []
    },
    {
      "cell_type": "code",
      "metadata": {
        "id": "3T5N09s9TbcY",
        "colab_type": "code",
        "outputId": "e002fece-9e0d-471b-bec6-db0e10e65594",
        "colab": {
          "base_uri": "https://localhost:8080/",
          "height": 427
        }
      },
      "source": [
        "lr.fit(X_train,Y_train)\n",
        "dtc.fit(X_train,Y_train)\n",
        "rf.fit(X_train,Y_train)"
      ],
      "execution_count": 18,
      "outputs": [
        {
          "output_type": "stream",
          "text": [
            "/usr/local/lib/python3.6/dist-packages/sklearn/linear_model/logistic.py:432: FutureWarning: Default solver will be changed to 'lbfgs' in 0.22. Specify a solver to silence this warning.\n",
            "  FutureWarning)\n",
            "[Parallel(n_jobs=-1)]: Using backend ThreadingBackend with 2 concurrent workers.\n",
            "[Parallel(n_jobs=-1)]: Done  11 out of  11 | elapsed:    0.0s finished\n"
          ],
          "name": "stderr"
        },
        {
          "output_type": "stream",
          "text": [
            "[LibLinear]building tree 1 of 11\n",
            "building tree 2 of 11\n",
            "building tree 3 of 11\n",
            "building tree 4 of 11\n",
            "building tree 5 of 11building tree 6 of 11\n",
            "\n",
            "building tree 7 of 11building tree 9 of 11\n",
            "\n",
            "building tree 8 of 11\n",
            "building tree 10 of 11\n",
            "building tree 11 of 11\n"
          ],
          "name": "stdout"
        },
        {
          "output_type": "execute_result",
          "data": {
            "text/plain": [
              "RandomForestClassifier(bootstrap=True, class_weight=None, criterion='gini',\n",
              "                       max_depth=None, max_features='auto', max_leaf_nodes=None,\n",
              "                       min_impurity_decrease=0.0, min_impurity_split=None,\n",
              "                       min_samples_leaf=1, min_samples_split=2,\n",
              "                       min_weight_fraction_leaf=0.0, n_estimators=11, n_jobs=-1,\n",
              "                       oob_score=False, random_state=0, verbose=2,\n",
              "                       warm_start=False)"
            ]
          },
          "metadata": {
            "tags": []
          },
          "execution_count": 18
        }
      ]
    },
    {
      "cell_type": "code",
      "metadata": {
        "id": "x6ayNfmkZ2Z-",
        "colab_type": "code",
        "colab": {}
      },
      "source": [
        ""
      ],
      "execution_count": 0,
      "outputs": []
    },
    {
      "cell_type": "code",
      "metadata": {
        "id": "kdd31wzQaEl2",
        "colab_type": "code",
        "outputId": "7d1dec5a-3b45-4c98-c984-0b1b2f95bdec",
        "colab": {
          "base_uri": "https://localhost:8080/",
          "height": 52
        }
      },
      "source": [
        "confusion_matrix(Y_test,lr.predict(X_test))"
      ],
      "execution_count": 19,
      "outputs": [
        {
          "output_type": "execute_result",
          "data": {
            "text/plain": [
              "array([[23,  5],\n",
              "       [ 4, 29]])"
            ]
          },
          "metadata": {
            "tags": []
          },
          "execution_count": 19
        }
      ]
    },
    {
      "cell_type": "code",
      "metadata": {
        "id": "ViENlORZaLwY",
        "colab_type": "code",
        "outputId": "5c296023-ffb2-414c-8dca-dda72a6d7ea9",
        "colab": {
          "base_uri": "https://localhost:8080/",
          "height": 52
        }
      },
      "source": [
        "confusion_matrix(Y_test,dtc.predict(X_test))"
      ],
      "execution_count": 20,
      "outputs": [
        {
          "output_type": "execute_result",
          "data": {
            "text/plain": [
              "array([[25,  3],\n",
              "       [ 5, 28]])"
            ]
          },
          "metadata": {
            "tags": []
          },
          "execution_count": 20
        }
      ]
    },
    {
      "cell_type": "code",
      "metadata": {
        "id": "rw2C1qHBaYWC",
        "colab_type": "code",
        "outputId": "7eaf75e2-e380-4859-a8ea-0081cfa1d9ae",
        "colab": {
          "base_uri": "https://localhost:8080/",
          "height": 87
        }
      },
      "source": [
        "confusion_matrix(Y_test,rf.predict(X_test))"
      ],
      "execution_count": 21,
      "outputs": [
        {
          "output_type": "stream",
          "text": [
            "[Parallel(n_jobs=2)]: Using backend ThreadingBackend with 2 concurrent workers.\n",
            "[Parallel(n_jobs=2)]: Done  11 out of  11 | elapsed:    0.0s finished\n"
          ],
          "name": "stderr"
        },
        {
          "output_type": "execute_result",
          "data": {
            "text/plain": [
              "array([[24,  4],\n",
              "       [ 5, 28]])"
            ]
          },
          "metadata": {
            "tags": []
          },
          "execution_count": 21
        }
      ]
    },
    {
      "cell_type": "markdown",
      "metadata": {
        "id": "WxXTjNw3_dUH",
        "colab_type": "text"
      },
      "source": [
        "# Ensembel Learning"
      ]
    },
    {
      "cell_type": "code",
      "metadata": {
        "id": "sjgki2EyS1Hh",
        "colab_type": "code",
        "outputId": "78947d19-c1b1-4f69-aa3c-9d639a6109a0",
        "colab": {
          "base_uri": "https://localhost:8080/",
          "height": 676
        }
      },
      "source": [
        "vc=VotingClassifier(estimators=[('dtc',dtc),('lr',lr),('rf',rf)],\n",
        "                    voting='soft')\n",
        "vc.fit(X_train,Y_train)"
      ],
      "execution_count": 22,
      "outputs": [
        {
          "output_type": "stream",
          "text": [
            "[LibLinear]"
          ],
          "name": "stdout"
        },
        {
          "output_type": "stream",
          "text": [
            "/usr/local/lib/python3.6/dist-packages/sklearn/linear_model/logistic.py:432: FutureWarning: Default solver will be changed to 'lbfgs' in 0.22. Specify a solver to silence this warning.\n",
            "  FutureWarning)\n",
            "[Parallel(n_jobs=-1)]: Using backend LokyBackend with 2 concurrent workers.\n",
            "[Parallel(n_jobs=-1)]: Done  11 out of  11 | elapsed:    1.4s finished\n"
          ],
          "name": "stderr"
        },
        {
          "output_type": "execute_result",
          "data": {
            "text/plain": [
              "VotingClassifier(estimators=[('dtc',\n",
              "                              DecisionTreeClassifier(class_weight=None,\n",
              "                                                     criterion='gini',\n",
              "                                                     max_depth=3,\n",
              "                                                     max_features=None,\n",
              "                                                     max_leaf_nodes=None,\n",
              "                                                     min_impurity_decrease=0.0,\n",
              "                                                     min_impurity_split=None,\n",
              "                                                     min_samples_leaf=1,\n",
              "                                                     min_samples_split=2,\n",
              "                                                     min_weight_fraction_leaf=0.0,\n",
              "                                                     presort=False,\n",
              "                                                     random_state=None,\n",
              "                                                     splitter='best')),\n",
              "                             ('lr',\n",
              "                              LogisticRegression(C=1.0, class_w...\n",
              "                                                     class_weight=None,\n",
              "                                                     criterion='gini',\n",
              "                                                     max_depth=None,\n",
              "                                                     max_features='auto',\n",
              "                                                     max_leaf_nodes=None,\n",
              "                                                     min_impurity_decrease=0.0,\n",
              "                                                     min_impurity_split=None,\n",
              "                                                     min_samples_leaf=1,\n",
              "                                                     min_samples_split=2,\n",
              "                                                     min_weight_fraction_leaf=0.0,\n",
              "                                                     n_estimators=11, n_jobs=-1,\n",
              "                                                     oob_score=False,\n",
              "                                                     random_state=0, verbose=2,\n",
              "                                                     warm_start=False))],\n",
              "                 flatten_transform=True, n_jobs=None, voting='soft',\n",
              "                 weights=None)"
            ]
          },
          "metadata": {
            "tags": []
          },
          "execution_count": 22
        }
      ]
    },
    {
      "cell_type": "markdown",
      "metadata": {
        "id": "G_XpAuYT_YJg",
        "colab_type": "text"
      },
      "source": [
        "# Evaluation Metrics"
      ]
    },
    {
      "cell_type": "code",
      "metadata": {
        "id": "d_S0K8aO-DrV",
        "colab_type": "code",
        "colab": {
          "base_uri": "https://localhost:8080/",
          "height": 212
        },
        "outputId": "c0737062-5069-40d6-8596-3862812cb932"
      },
      "source": [
        "print(classification_report(Y_test, vc.predict(X_test)))"
      ],
      "execution_count": 23,
      "outputs": [
        {
          "output_type": "stream",
          "text": [
            "              precision    recall  f1-score   support\n",
            "\n",
            "           0       0.89      0.86      0.87        28\n",
            "           1       0.88      0.91      0.90        33\n",
            "\n",
            "    accuracy                           0.89        61\n",
            "   macro avg       0.89      0.88      0.88        61\n",
            "weighted avg       0.89      0.89      0.89        61\n",
            "\n"
          ],
          "name": "stdout"
        },
        {
          "output_type": "stream",
          "text": [
            "[Parallel(n_jobs=2)]: Using backend ThreadingBackend with 2 concurrent workers.\n",
            "[Parallel(n_jobs=2)]: Done  11 out of  11 | elapsed:    0.0s finished\n"
          ],
          "name": "stderr"
        }
      ]
    },
    {
      "cell_type": "code",
      "metadata": {
        "id": "9vjz46Ux-AUY",
        "colab_type": "code",
        "colab": {
          "base_uri": "https://localhost:8080/",
          "height": 70
        },
        "outputId": "d3716cc0-48d3-4c05-9a68-1a7493051949"
      },
      "source": [
        "print(f1_score(Y_test, vc.predict(X_test)))"
      ],
      "execution_count": 24,
      "outputs": [
        {
          "output_type": "stream",
          "text": [
            "[Parallel(n_jobs=2)]: Using backend ThreadingBackend with 2 concurrent workers.\n",
            "[Parallel(n_jobs=2)]: Done  11 out of  11 | elapsed:    0.0s finished\n"
          ],
          "name": "stderr"
        },
        {
          "output_type": "stream",
          "text": [
            "0.8955223880597014\n"
          ],
          "name": "stdout"
        }
      ]
    }
  ]
}